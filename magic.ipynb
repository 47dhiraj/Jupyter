{
 "cells": [
  {
   "cell_type": "markdown",
   "id": "3bdf07d1-4c06-4f94-8143-4043d129b133",
   "metadata": {},
   "source": [
    "## Magic Commands"
   ]
  },
  {
   "cell_type": "markdown",
   "id": "5d2dd0d2-9e92-40cc-8ecf-fd1acd1227fa",
   "metadata": {},
   "source": [
    "### u can run magic commands(terminal commands) within JupyterLab"
   ]
  },
  {
   "cell_type": "markdown",
   "id": "5dfae7e5-7526-4fa6-a88a-9d75b782bc18",
   "metadata": {},
   "source": [
    "## To see all magic commands in JupyterLab `%lsmagic`"
   ]
  },
  {
   "cell_type": "code",
   "execution_count": 1,
   "id": "9d5718e8-85cd-4432-99d0-727c1bed6dc2",
   "metadata": {},
   "outputs": [
    {
     "data": {
      "application/json": {
       "cell": {
        "!": "OSMagics",
        "HTML": "Other",
        "SVG": "Other",
        "bash": "Other",
        "capture": "ExecutionMagics",
        "debug": "ExecutionMagics",
        "file": "Other",
        "html": "DisplayMagics",
        "javascript": "DisplayMagics",
        "js": "DisplayMagics",
        "latex": "DisplayMagics",
        "markdown": "DisplayMagics",
        "perl": "Other",
        "prun": "ExecutionMagics",
        "pypy": "Other",
        "python": "Other",
        "python2": "Other",
        "python3": "Other",
        "ruby": "Other",
        "script": "ScriptMagics",
        "sh": "Other",
        "svg": "DisplayMagics",
        "sx": "OSMagics",
        "system": "OSMagics",
        "time": "ExecutionMagics",
        "timeit": "ExecutionMagics",
        "writefile": "OSMagics"
       },
       "line": {
        "alias": "OSMagics",
        "alias_magic": "BasicMagics",
        "autoawait": "AsyncMagics",
        "autocall": "AutoMagics",
        "automagic": "AutoMagics",
        "autosave": "KernelMagics",
        "bookmark": "OSMagics",
        "cat": "Other",
        "cd": "OSMagics",
        "clear": "KernelMagics",
        "colors": "BasicMagics",
        "conda": "PackagingMagics",
        "config": "ConfigMagics",
        "connect_info": "KernelMagics",
        "cp": "Other",
        "debug": "ExecutionMagics",
        "dhist": "OSMagics",
        "dirs": "OSMagics",
        "doctest_mode": "BasicMagics",
        "ed": "Other",
        "edit": "KernelMagics",
        "env": "OSMagics",
        "gui": "BasicMagics",
        "hist": "Other",
        "history": "HistoryMagics",
        "killbgscripts": "ScriptMagics",
        "ldir": "Other",
        "less": "KernelMagics",
        "lf": "Other",
        "lk": "Other",
        "ll": "Other",
        "load": "CodeMagics",
        "load_ext": "ExtensionMagics",
        "loadpy": "CodeMagics",
        "logoff": "LoggingMagics",
        "logon": "LoggingMagics",
        "logstart": "LoggingMagics",
        "logstate": "LoggingMagics",
        "logstop": "LoggingMagics",
        "ls": "Other",
        "lsmagic": "BasicMagics",
        "lx": "Other",
        "macro": "ExecutionMagics",
        "magic": "BasicMagics",
        "man": "KernelMagics",
        "matplotlib": "PylabMagics",
        "mkdir": "Other",
        "more": "KernelMagics",
        "mv": "Other",
        "notebook": "BasicMagics",
        "page": "BasicMagics",
        "pastebin": "CodeMagics",
        "pdb": "ExecutionMagics",
        "pdef": "NamespaceMagics",
        "pdoc": "NamespaceMagics",
        "pfile": "NamespaceMagics",
        "pinfo": "NamespaceMagics",
        "pinfo2": "NamespaceMagics",
        "pip": "PackagingMagics",
        "popd": "OSMagics",
        "pprint": "BasicMagics",
        "precision": "BasicMagics",
        "prun": "ExecutionMagics",
        "psearch": "NamespaceMagics",
        "psource": "NamespaceMagics",
        "pushd": "OSMagics",
        "pwd": "OSMagics",
        "pycat": "OSMagics",
        "pylab": "PylabMagics",
        "qtconsole": "KernelMagics",
        "quickref": "BasicMagics",
        "recall": "HistoryMagics",
        "rehashx": "OSMagics",
        "reload_ext": "ExtensionMagics",
        "rep": "Other",
        "rerun": "HistoryMagics",
        "reset": "NamespaceMagics",
        "reset_selective": "NamespaceMagics",
        "rm": "Other",
        "rmdir": "Other",
        "run": "ExecutionMagics",
        "save": "CodeMagics",
        "sc": "OSMagics",
        "set_env": "OSMagics",
        "store": "StoreMagics",
        "sx": "OSMagics",
        "system": "OSMagics",
        "tb": "ExecutionMagics",
        "time": "ExecutionMagics",
        "timeit": "ExecutionMagics",
        "unalias": "OSMagics",
        "unload_ext": "ExtensionMagics",
        "who": "NamespaceMagics",
        "who_ls": "NamespaceMagics",
        "whos": "NamespaceMagics",
        "xdel": "NamespaceMagics",
        "xmode": "BasicMagics"
       }
      },
      "text/plain": [
       "Available line magics:\n",
       "%alias  %alias_magic  %autoawait  %autocall  %automagic  %autosave  %bookmark  %cat  %cd  %clear  %colors  %conda  %config  %connect_info  %cp  %debug  %dhist  %dirs  %doctest_mode  %ed  %edit  %env  %gui  %hist  %history  %killbgscripts  %ldir  %less  %lf  %lk  %ll  %load  %load_ext  %loadpy  %logoff  %logon  %logstart  %logstate  %logstop  %ls  %lsmagic  %lx  %macro  %magic  %man  %matplotlib  %mkdir  %more  %mv  %notebook  %page  %pastebin  %pdb  %pdef  %pdoc  %pfile  %pinfo  %pinfo2  %pip  %popd  %pprint  %precision  %prun  %psearch  %psource  %pushd  %pwd  %pycat  %pylab  %qtconsole  %quickref  %recall  %rehashx  %reload_ext  %rep  %rerun  %reset  %reset_selective  %rm  %rmdir  %run  %save  %sc  %set_env  %store  %sx  %system  %tb  %time  %timeit  %unalias  %unload_ext  %who  %who_ls  %whos  %xdel  %xmode\n",
       "\n",
       "Available cell magics:\n",
       "%%!  %%HTML  %%SVG  %%bash  %%capture  %%debug  %%file  %%html  %%javascript  %%js  %%latex  %%markdown  %%perl  %%prun  %%pypy  %%python  %%python2  %%python3  %%ruby  %%script  %%sh  %%svg  %%sx  %%system  %%time  %%timeit  %%writefile\n",
       "\n",
       "Automagic is ON, % prefix IS NOT needed for line magics."
      ]
     },
     "execution_count": 1,
     "metadata": {},
     "output_type": "execute_result"
    }
   ],
   "source": [
    "%lsmagic"
   ]
  },
  {
   "cell_type": "markdown",
   "id": "40abd98f-0b6e-49bc-861d-344dfa6918ec",
   "metadata": {},
   "source": [
    "## There are 2 types of magic commands `line` magic & `cell` magic commands"
   ]
  },
  {
   "cell_type": "markdown",
   "id": "0692e18d-5244-45c9-8e58-9eb2eb7b57ad",
   "metadata": {},
   "source": [
    "### Note: For `line` magic command we use `%`, but for `cell` magic we use `%%`"
   ]
  },
  {
   "cell_type": "code",
   "execution_count": 2,
   "id": "ed359dd0-d799-4167-8505-cc9d32cc9cda",
   "metadata": {},
   "outputs": [
    {
     "name": "stdout",
     "output_type": "stream",
     "text": [
      "basic_of_jupyterlab.txt  README.md  \u001b[0m\u001b[01;34mshortcuts\u001b[0m/\n",
      "magic.ipynb              \u001b[01;34msetup\u001b[0m/     Untitled.ipynb\n"
     ]
    }
   ],
   "source": [
    "%ls"
   ]
  },
  {
   "cell_type": "code",
   "execution_count": 3,
   "id": "c89382be-f860-45c5-88c6-f0d43d62a693",
   "metadata": {},
   "outputs": [
    {
     "data": {
      "text/plain": [
       "'/home/dhiraj/Desktop/jupyterlab'"
      ]
     },
     "execution_count": 3,
     "metadata": {},
     "output_type": "execute_result"
    }
   ],
   "source": [
    "%pwd"
   ]
  },
  {
   "cell_type": "code",
   "execution_count": 4,
   "id": "df9064cb-df00-495c-9ca2-40a09062394d",
   "metadata": {},
   "outputs": [
    {
     "name": "stdout",
     "output_type": "stream",
     "text": [
      "Requirement already satisfied: numpy in /home/dhiraj/Desktop/jup_env/lib/python3.10/site-packages (1.25.1)\n"
     ]
    }
   ],
   "source": [
    "!pip install numpy"
   ]
  },
  {
   "cell_type": "code",
   "execution_count": 5,
   "id": "e2bdf13d-78e2-45ba-b718-e652f693ad2d",
   "metadata": {},
   "outputs": [],
   "source": [
    "%mkdir test_dir"
   ]
  },
  {
   "cell_type": "markdown",
   "id": "3dd023c8-ff39-486e-9e60-b2fe59bca54d",
   "metadata": {},
   "source": [
    "## To Run Multiple magic commands in single cell use `%%bash` before all magics"
   ]
  },
  {
   "cell_type": "code",
   "execution_count": 6,
   "id": "8cf356e9-ade9-495b-9a7b-60db7cffa923",
   "metadata": {},
   "outputs": [
    {
     "name": "stdout",
     "output_type": "stream",
     "text": [
      "basic_of_jupyterlab.txt\n",
      "magic.ipynb\n",
      "README.md\n",
      "setup\n",
      "shortcuts\n",
      "test_dir\n",
      "Untitled.ipynb\n",
      "/home/dhiraj/Desktop/jupyterlab\n"
     ]
    }
   ],
   "source": [
    "%%bash\n",
    "ls\n",
    "pwd"
   ]
  },
  {
   "cell_type": "markdown",
   "id": "3f27eede-2fa3-4a90-a6b7-784b4366ceb1",
   "metadata": {},
   "source": [
    "### Checking execution time of code for better optimization"
   ]
  },
  {
   "cell_type": "markdown",
   "id": "f8972460-debe-41ba-9409-a79f167a2669",
   "metadata": {},
   "source": [
    "## `%%timeit` magic is used to provide the execution time of codes in a cell"
   ]
  },
  {
   "cell_type": "markdown",
   "id": "a983b7a5-5343-48d2-8f99-799251976666",
   "metadata": {},
   "source": [
    "### `%%timeit` is more accurate than `%%time` because with timeit, code is executed several times & tested to find better execution time "
   ]
  },
  {
   "cell_type": "code",
   "execution_count": 9,
   "id": "02bbed09-6566-496d-8290-da20e036f441",
   "metadata": {},
   "outputs": [
    {
     "name": "stdout",
     "output_type": "stream",
     "text": [
      "116 ns ± 2.83 ns per loop (mean ± std. dev. of 7 runs, 10,000,000 loops each)\n"
     ]
    }
   ],
   "source": [
    "%%timeit\n",
    "import numpy as np"
   ]
  },
  {
   "cell_type": "markdown",
   "id": "a85f70e7-0143-4e02-8d85-bf4aaf7acb32",
   "metadata": {},
   "source": [
    "### To only find the execution time of one line code"
   ]
  },
  {
   "cell_type": "code",
   "execution_count": 10,
   "id": "e782be1b-0736-4116-86d0-170ec2eaecc2",
   "metadata": {},
   "outputs": [
    {
     "name": "stdout",
     "output_type": "stream",
     "text": [
      "116 ns ± 3.61 ns per loop (mean ± std. dev. of 7 runs, 10,000,000 loops each)\n"
     ]
    }
   ],
   "source": [
    "%timeit import numpy as np"
   ]
  },
  {
   "cell_type": "markdown",
   "id": "ee8f2fc1-e19f-4320-85a1-252ad508f691",
   "metadata": {},
   "source": [
    "## `%%time` magic also gives CPU times, Wall times & total time"
   ]
  },
  {
   "cell_type": "code",
   "execution_count": 11,
   "id": "db4ab425-b4c2-42c6-a91b-2c84bba7981a",
   "metadata": {},
   "outputs": [
    {
     "name": "stdout",
     "output_type": "stream",
     "text": [
      "CPU times: user 9 µs, sys: 0 ns, total: 9 µs\n",
      "Wall time: 14.1 µs\n"
     ]
    }
   ],
   "source": [
    "%%time\n",
    "import numpy as np"
   ]
  },
  {
   "cell_type": "code",
   "execution_count": null,
   "id": "42304ca1-4033-43a1-84e7-be5c77b67130",
   "metadata": {},
   "outputs": [],
   "source": []
  }
 ],
 "metadata": {
  "kernelspec": {
   "display_name": "jup_env",
   "language": "python",
   "name": "jup_env"
  },
  "language_info": {
   "codemirror_mode": {
    "name": "ipython",
    "version": 3
   },
   "file_extension": ".py",
   "mimetype": "text/x-python",
   "name": "python",
   "nbconvert_exporter": "python",
   "pygments_lexer": "ipython3",
   "version": "3.10.6"
  }
 },
 "nbformat": 4,
 "nbformat_minor": 5
}
