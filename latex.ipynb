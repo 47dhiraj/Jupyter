{
 "cells": [
  {
   "cell_type": "markdown",
   "id": "b3c5edc8-a376-4606-a97b-302629eb3fdb",
   "metadata": {},
   "source": [
    "## Writing Formulas in Notebook"
   ]
  },
  {
   "cell_type": "markdown",
   "id": "52380896-c60c-49fa-b6d0-a40333beeeb5",
   "metadata": {},
   "source": [
    "1. At first create a markdown cell\n",
    "2. Then at begining, write `$` sign & write forumla & again enclose with `$` sign"
   ]
  },
  {
   "cell_type": "markdown",
   "id": "2e094e3a-092c-4ae6-8c62-681301926ddd",
   "metadata": {},
   "source": [
    "$F(x) = x^3$"
   ]
  }
 ],
 "metadata": {
  "kernelspec": {
   "display_name": "jup_env",
   "language": "python",
   "name": "jup_env"
  },
  "language_info": {
   "codemirror_mode": {
    "name": "ipython",
    "version": 3
   },
   "file_extension": ".py",
   "mimetype": "text/x-python",
   "name": "python",
   "nbconvert_exporter": "python",
   "pygments_lexer": "ipython3",
   "version": "3.10.6"
  }
 },
 "nbformat": 4,
 "nbformat_minor": 5
}
